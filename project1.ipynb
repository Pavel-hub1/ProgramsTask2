{
 "cells": [
  {
   "cell_type": "code",
   "execution_count": 1,
   "id": "86dbf2c6",
   "metadata": {},
   "outputs": [],
   "source": [
    "# f(x) =0.6x^3+5.5x^2+10x -5\n",
    "\n",
    "# Определить корни \n",
    "\n",
    "# Найти интервалы, на которых функция возрастает\n",
    "\n",
    "# Найти интервалы, на которых функция убывает\n",
    "\n",
    "# Построить график \n",
    "\n",
    "# Вычислить вершину\n",
    "\n",
    "# Определить промежутки, на котором f > 0\n",
    "\n",
    "# Определить промежутки, на котором f < 0"
   ]
  },
  {
   "cell_type": "code",
   "execution_count": null,
   "id": "30c395b1",
   "metadata": {},
   "outputs": [],
   "source": [
    "from sympy import *\n",
    "\n",
    "a = 1\n",
    "b = 5\n",
    "c = -2\n",
    "d = 9\n",
    "\n",
    "x = Symbol(\"x\")\n",
    "\n",
    "funcx = a * (x**3) + b * (x**2) + c * (x**1) + d\n"
   ]
  },
  {
   "cell_type": "code",
   "execution_count": null,
   "id": "2a7eb053",
   "metadata": {},
   "outputs": [],
   "source": [
    "funcx"
   ]
  },
  {
   "cell_type": "code",
   "execution_count": null,
   "id": "b75afaf9",
   "metadata": {},
   "outputs": [],
   "source": [
    "print(\"корень №1: \", solve(f_x,x)[0].n())\n",
    "print(\"корень №2: \", solve(f_x,x)[1].n())\n",
    "print(\"корень №3: \", solve(f_x,x)[2].n())"
   ]
  },
  {
   "cell_type": "code",
   "execution_count": null,
   "id": "57a9fe33",
   "metadata": {},
   "outputs": [],
   "source": [
    "from sympy.plotting import plot\n",
    "graf1 = plot(funcx, (x, -5, 4), line_color='red')\n",
    "graf1"
   ]
  },
  {
   "cell_type": "code",
   "execution_count": null,
   "id": "ed3bda42",
   "metadata": {},
   "outputs": [],
   "source": [
    "proisvodnay = diff(funcx)\n",
    "proisvodnay"
   ]
  },
  {
   "cell_type": "code",
   "execution_count": null,
   "id": "b05996fc",
   "metadata": {},
   "outputs": [],
   "source": [
    "graf2 = plot(proisvodnay, (x, -4, 3), line_color='red')"
   ]
  },
  {
   "cell_type": "code",
   "execution_count": null,
   "id": "10f7f735",
   "metadata": {},
   "outputs": [],
   "source": [
    "graf3 = plot(funcx, proisvodnay, (x,-4,3), legend=True, xlavel='X', ylabel='Y', slow=False)\n",
    "graf3[0].line_color = 'red'\n",
    "graf3[1].line_color = 'black'\n",
    "graf3.show()"
   ]
  },
  {
   "cell_type": "code",
   "execution_count": null,
   "id": "2e80bfa7",
   "metadata": {},
   "outputs": [],
   "source": [
    "print(\"корень №1: \", solve(proisvodnay,x)[0].n(3))"
   ]
  },
  {
   "cell_type": "code",
   "execution_count": null,
   "id": "c3c62ff8",
   "metadata": {},
   "outputs": [],
   "source": [
    "solve(proisvodnay > 0, x)"
   ]
  },
  {
   "cell_type": "code",
   "execution_count": null,
   "id": "1036ed50",
   "metadata": {},
   "outputs": [],
   "source": [
    "solve(proisvodnay < 0, x)"
   ]
  },
  {
   "cell_type": "code",
   "execution_count": null,
   "id": "dc048da1",
   "metadata": {},
   "outputs": [],
   "source": [
    "proisvodnay.subs(x, (-b / (2*a))"
   ]
  },
  {
   "cell_type": "code",
   "execution_count": null,
   "id": "c6d78991",
   "metadata": {},
   "outputs": [],
   "source": [
    "def f(x, a, b, c):\n",
    "    return a*x**2 + b*x + c\n",
    "\n",
    "x0 = -(b / (2*a))\n",
    "y0 = f(x0)\n",
    "print(x0, y0)"
   ]
  },
  {
   "cell_type": "code",
   "execution_count": null,
   "id": "6f6454c4",
   "metadata": {},
   "outputs": [],
   "source": []
  }
 ],
 "metadata": {
  "kernelspec": {
   "display_name": "Python 3 (ipykernel)",
   "language": "python",
   "name": "python3"
  },
  "language_info": {
   "codemirror_mode": {
    "name": "ipython",
    "version": 3
   },
   "file_extension": ".py",
   "mimetype": "text/x-python",
   "name": "python",
   "nbconvert_exporter": "python",
   "pygments_lexer": "ipython3",
   "version": "3.9.13"
  }
 },
 "nbformat": 4,
 "nbformat_minor": 5
}
